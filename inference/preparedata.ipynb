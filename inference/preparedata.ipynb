{
 "cells": [
  {
   "cell_type": "code",
   "execution_count": 1,
   "id": "2c45e628",
   "metadata": {},
   "outputs": [
    {
     "name": "stdout",
     "output_type": "stream",
     "text": [
      "All images and labels have been downscaled and saved!\n"
     ]
    }
   ],
   "source": [
    "import os\n",
    "import cv2\n",
    "import shutil\n",
    "# dataset https://universe.roboflow.com/jaspreet-drxjo/saffron-teuxt/dataset/3\n",
    "# Paths\n",
    "dataset_folder = \"./dataset_HR\"  # contains train, val, test\n",
    "output_folder = \"./dataset_LR\"\n",
    "\n",
    "# Scaling factor\n",
    "scale = 4\n",
    "\n",
    "# Loop through grand folders\n",
    "for split in [\"train\", \"valid\", \"test\"]:\n",
    "    split_path = os.path.join(dataset_folder, split)\n",
    "    output_split_path = os.path.join(output_folder, split)\n",
    "    \n",
    "    # Create output folders for images and labels\n",
    "    output_images = os.path.join(output_split_path, \"images\")\n",
    "    output_labels = os.path.join(output_split_path, \"labels\")\n",
    "    os.makedirs(output_images, exist_ok=True)\n",
    "    os.makedirs(output_labels, exist_ok=True)\n",
    "    \n",
    "    images_folder = os.path.join(split_path, \"images\")\n",
    "    labels_folder = os.path.join(split_path, \"labels\")\n",
    "    \n",
    "    # Process images\n",
    "    for img_name in os.listdir(images_folder):\n",
    "        if img_name.endswith(\".jpg\"):\n",
    "            # Read image\n",
    "            img_path = os.path.join(images_folder, img_name)\n",
    "            img = cv2.imread(img_path)\n",
    "            h, w = img.shape[:2]\n",
    "\n",
    "            # Resize image\n",
    "            new_w, new_h = w // scale, h // scale\n",
    "            img_resized = cv2.resize(img, (new_w, new_h))\n",
    "            \n",
    "            # Save resized image\n",
    "            cv2.imwrite(os.path.join(output_images, img_name), img_resized)\n",
    "\n",
    "            # Process corresponding label\n",
    "            label_name = img_name.replace(\".jpg\", \".txt\")\n",
    "            label_path = os.path.join(labels_folder, label_name)\n",
    "\n",
    "            if os.path.exists(label_path):\n",
    "                with open(label_path, \"r\") as f:\n",
    "                    lines = f.readlines()\n",
    "                \n",
    "                # YOLO normalized labels remain the same\n",
    "                with open(os.path.join(output_labels, label_name), \"w\") as f_out:\n",
    "                    f_out.writelines(lines)\n",
    "\n",
    "print(\"All images and labels have been downscaled and saved!\")\n"
   ]
  }
 ],
 "metadata": {
  "kernelspec": {
   "display_name": "Python 3 (ipykernel)",
   "language": "python",
   "name": "python3"
  },
  "language_info": {
   "codemirror_mode": {
    "name": "ipython",
    "version": 3
   },
   "file_extension": ".py",
   "mimetype": "text/x-python",
   "name": "python",
   "nbconvert_exporter": "python",
   "pygments_lexer": "ipython3",
   "version": "3.10.9"
  }
 },
 "nbformat": 4,
 "nbformat_minor": 5
}
